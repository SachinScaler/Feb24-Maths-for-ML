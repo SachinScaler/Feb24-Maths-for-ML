{
  "nbformat": 4,
  "nbformat_minor": 0,
  "metadata": {
    "colab": {
      "provenance": [],
      "authorship_tag": "ABX9TyOy2rhTUgcmjISWReUbThLQ",
      "include_colab_link": true
    },
    "kernelspec": {
      "name": "python3",
      "display_name": "Python 3"
    },
    "language_info": {
      "name": "python"
    }
  },
  "cells": [
    {
      "cell_type": "markdown",
      "metadata": {
        "id": "view-in-github",
        "colab_type": "text"
      },
      "source": [
        "<a href=\"https://colab.research.google.com/github/SachinScaler/Feb24-Maths-for-ML/blob/main/Linear_Algebra_2_Dot_products_and_hyperplanes%7CLecture.ipynb\" target=\"_parent\"><img src=\"https://colab.research.google.com/assets/colab-badge.svg\" alt=\"Open In Colab\"/></a>"
      ]
    },
    {
      "cell_type": "code",
      "execution_count": 1,
      "metadata": {
        "id": "oY8-1unFpTFn"
      },
      "outputs": [],
      "source": [
        "a = [1, 2]\n",
        "b = [5, 7]"
      ]
    },
    {
      "cell_type": "code",
      "source": [
        "import numpy as np\n",
        "\n",
        "help(np.dot)"
      ],
      "metadata": {
        "colab": {
          "base_uri": "https://localhost:8080/"
        },
        "id": "aJJyqAVJDSgS",
        "outputId": "ac6d50b5-5f21-4542-d4a4-b1df9c7d1187"
      },
      "execution_count": 3,
      "outputs": [
        {
          "output_type": "stream",
          "name": "stdout",
          "text": [
            "Help on _ArrayFunctionDispatcher in module numpy:\n",
            "\n",
            "dot(...)\n",
            "    dot(a, b, out=None)\n",
            "    \n",
            "    Dot product of two arrays. Specifically,\n",
            "    \n",
            "    - If both `a` and `b` are 1-D arrays, it is inner product of vectors\n",
            "      (without complex conjugation).\n",
            "    \n",
            "    - If both `a` and `b` are 2-D arrays, it is matrix multiplication,\n",
            "      but using :func:`matmul` or ``a @ b`` is preferred.\n",
            "    \n",
            "    - If either `a` or `b` is 0-D (scalar), it is equivalent to\n",
            "      :func:`multiply` and using ``numpy.multiply(a, b)`` or ``a * b`` is\n",
            "      preferred.\n",
            "    \n",
            "    - If `a` is an N-D array and `b` is a 1-D array, it is a sum product over\n",
            "      the last axis of `a` and `b`.\n",
            "    \n",
            "    - If `a` is an N-D array and `b` is an M-D array (where ``M>=2``), it is a\n",
            "      sum product over the last axis of `a` and the second-to-last axis of\n",
            "      `b`::\n",
            "    \n",
            "        dot(a, b)[i,j,k,m] = sum(a[i,j,:] * b[k,:,m])\n",
            "    \n",
            "    It uses an optimized BLAS library when possible (see `numpy.linalg`).\n",
            "    \n",
            "    Parameters\n",
            "    ----------\n",
            "    a : array_like\n",
            "        First argument.\n",
            "    b : array_like\n",
            "        Second argument.\n",
            "    out : ndarray, optional\n",
            "        Output argument. This must have the exact kind that would be returned\n",
            "        if it was not used. In particular, it must have the right type, must be\n",
            "        C-contiguous, and its dtype must be the dtype that would be returned\n",
            "        for `dot(a,b)`. This is a performance feature. Therefore, if these\n",
            "        conditions are not met, an exception is raised, instead of attempting\n",
            "        to be flexible.\n",
            "    \n",
            "    Returns\n",
            "    -------\n",
            "    output : ndarray\n",
            "        Returns the dot product of `a` and `b`.  If `a` and `b` are both\n",
            "        scalars or both 1-D arrays then a scalar is returned; otherwise\n",
            "        an array is returned.\n",
            "        If `out` is given, then it is returned.\n",
            "    \n",
            "    Raises\n",
            "    ------\n",
            "    ValueError\n",
            "        If the last dimension of `a` is not the same size as\n",
            "        the second-to-last dimension of `b`.\n",
            "    \n",
            "    See Also\n",
            "    --------\n",
            "    vdot : Complex-conjugating dot product.\n",
            "    tensordot : Sum products over arbitrary axes.\n",
            "    einsum : Einstein summation convention.\n",
            "    matmul : '@' operator as method with out parameter.\n",
            "    linalg.multi_dot : Chained dot product.\n",
            "    \n",
            "    Examples\n",
            "    --------\n",
            "    >>> np.dot(3, 4)\n",
            "    12\n",
            "    \n",
            "    Neither argument is complex-conjugated:\n",
            "    \n",
            "    >>> np.dot([2j, 3j], [2j, 3j])\n",
            "    (-13+0j)\n",
            "    \n",
            "    For 2-D arrays it is the matrix product:\n",
            "    \n",
            "    >>> a = [[1, 0], [0, 1]]\n",
            "    >>> b = [[4, 1], [2, 2]]\n",
            "    >>> np.dot(a, b)\n",
            "    array([[4, 1],\n",
            "           [2, 2]])\n",
            "    \n",
            "    >>> a = np.arange(3*4*5*6).reshape((3,4,5,6))\n",
            "    >>> b = np.arange(3*4*5*6)[::-1].reshape((5,4,6,3))\n",
            "    >>> np.dot(a, b)[2,3,2,1,2,2]\n",
            "    499128\n",
            "    >>> sum(a[2,3,2,:] * b[1,2,:,2])\n",
            "    499128\n",
            "\n"
          ]
        }
      ]
    },
    {
      "cell_type": "code",
      "source": [
        "import numpy as np\n",
        "\n",
        "np.dot(a,b)"
      ],
      "metadata": {
        "colab": {
          "base_uri": "https://localhost:8080/"
        },
        "id": "WjWA9--xDNJW",
        "outputId": "6650169c-dbe3-4114-9018-21aced75de9a"
      },
      "execution_count": 4,
      "outputs": [
        {
          "output_type": "execute_result",
          "data": {
            "text/plain": [
              "19"
            ]
          },
          "metadata": {},
          "execution_count": 4
        }
      ]
    },
    {
      "cell_type": "code",
      "source": [
        "a = [1, 2]\n",
        "b = [5, 7]\n",
        "\n",
        "ans = 0\n",
        "for i,j in zip(a,b):\n",
        "    ans +=(i*j)\n",
        "ans"
      ],
      "metadata": {
        "colab": {
          "base_uri": "https://localhost:8080/"
        },
        "id": "WCQNl6FNDbd6",
        "outputId": "20b6ade7-b432-4d6e-946f-cb02e644f4d7"
      },
      "execution_count": 7,
      "outputs": [
        {
          "output_type": "execute_result",
          "data": {
            "text/plain": [
              "19"
            ]
          },
          "metadata": {},
          "execution_count": 7
        }
      ]
    },
    {
      "cell_type": "code",
      "source": [
        "ans = 0\n",
        "for i in range(len(a)):\n",
        "    ans += a[i]*b[i]\n",
        "ans"
      ],
      "metadata": {
        "colab": {
          "base_uri": "https://localhost:8080/"
        },
        "id": "TeCdNDp2DsIQ",
        "outputId": "35ba4abe-717f-4da2-bd6b-d285c92d854c"
      },
      "execution_count": 8,
      "outputs": [
        {
          "output_type": "execute_result",
          "data": {
            "text/plain": [
              "19"
            ]
          },
          "metadata": {},
          "execution_count": 8
        }
      ]
    },
    {
      "cell_type": "markdown",
      "source": [
        "## benchmark and find out which method is fastest among 3"
      ],
      "metadata": {
        "id": "6vTWBJh9EKkC"
      }
    },
    {
      "cell_type": "code",
      "source": [
        "%%timeit\n",
        "ans = 0\n",
        "for i in range(len(a)):\n",
        "    ans += a[i]*b[i]\n",
        "ans"
      ],
      "metadata": {
        "colab": {
          "base_uri": "https://localhost:8080/"
        },
        "id": "t97oh774D_-y",
        "outputId": "3185d57a-90c3-4b1f-b7b7-81a297690db8"
      },
      "execution_count": 9,
      "outputs": [
        {
          "output_type": "stream",
          "name": "stdout",
          "text": [
            "249 ns ± 12.3 ns per loop (mean ± std. dev. of 7 runs, 1000000 loops each)\n"
          ]
        }
      ]
    },
    {
      "cell_type": "code",
      "source": [],
      "metadata": {
        "id": "C78uCFhvETIQ"
      },
      "execution_count": null,
      "outputs": []
    }
  ]
}