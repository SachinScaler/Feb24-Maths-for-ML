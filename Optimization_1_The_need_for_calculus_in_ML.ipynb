{
  "nbformat": 4,
  "nbformat_minor": 0,
  "metadata": {
    "colab": {
      "provenance": [],
      "authorship_tag": "ABX9TyOx4ZlbUCJzkvWOWOg6NBn9",
      "include_colab_link": true
    },
    "kernelspec": {
      "name": "python3",
      "display_name": "Python 3"
    },
    "language_info": {
      "name": "python"
    }
  },
  "cells": [
    {
      "cell_type": "markdown",
      "metadata": {
        "id": "view-in-github",
        "colab_type": "text"
      },
      "source": [
        "<a href=\"https://colab.research.google.com/github/SachinScaler/Feb25-Maths-for-ML/blob/main/Optimization_1_The_need_for_calculus_in_ML.ipynb\" target=\"_parent\"><img src=\"https://colab.research.google.com/assets/colab-badge.svg\" alt=\"Open In Colab\"/></a>"
      ]
    },
    {
      "cell_type": "code",
      "execution_count": 6,
      "metadata": {
        "colab": {
          "base_uri": "https://localhost:8080/"
        },
        "id": "rZ5b1CPFNSGg",
        "outputId": "c30e01fe-2b81-4778-f201-acf3c5209780"
      },
      "outputs": [
        {
          "output_type": "execute_result",
          "data": {
            "text/plain": [
              "22.557225"
            ]
          },
          "metadata": {},
          "execution_count": 6
        }
      ],
      "source": [
        "((201**3)*0.01)/3600"
      ]
    },
    {
      "cell_type": "code",
      "source": [
        "201**10"
      ],
      "metadata": {
        "colab": {
          "base_uri": "https://localhost:8080/"
        },
        "id": "IgbP2btrNVPo",
        "outputId": "88742e59-e5ea-4b44-928f-5f1211cd7a41"
      },
      "execution_count": 3,
      "outputs": [
        {
          "output_type": "execute_result",
          "data": {
            "text/plain": [
              "107636749520976961802001"
            ]
          },
          "metadata": {},
          "execution_count": 3
        }
      ]
    },
    {
      "cell_type": "code",
      "source": [
        "((201**10*0.01)/3600)/24"
      ],
      "metadata": {
        "colab": {
          "base_uri": "https://localhost:8080/"
        },
        "id": "kaF3lxdUNfLp",
        "outputId": "9420e4e2-3f77-4870-afcd-bdaceab3f63b"
      },
      "execution_count": 8,
      "outputs": [
        {
          "output_type": "execute_result",
          "data": {
            "text/plain": [
              "1.2457957120483446e+16"
            ]
          },
          "metadata": {},
          "execution_count": 8
        }
      ]
    },
    {
      "cell_type": "code",
      "source": [
        "def func(x):\n",
        "    return x**2\n",
        "\n",
        "\n",
        "for i in [2.9, 2.99, 2.999, 2.9999]:\n",
        "    print(i, func(i))"
      ],
      "metadata": {
        "colab": {
          "base_uri": "https://localhost:8080/"
        },
        "id": "ocpkgWM5NxiW",
        "outputId": "895f3410-45e0-44f4-c80f-63ae0967d9eb"
      },
      "execution_count": 10,
      "outputs": [
        {
          "output_type": "stream",
          "name": "stdout",
          "text": [
            "2.9 8.41\n",
            "2.99 8.940100000000001\n",
            "2.999 8.994001\n",
            "2.9999 8.999400009999999\n"
          ]
        }
      ]
    },
    {
      "cell_type": "code",
      "source": [],
      "metadata": {
        "id": "7dpeywyEdvmz"
      },
      "execution_count": null,
      "outputs": []
    }
  ]
}